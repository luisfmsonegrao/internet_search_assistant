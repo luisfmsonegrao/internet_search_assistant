{
 "cells": [
  {
   "cell_type": "markdown",
   "id": "dc31fee2",
   "metadata": {},
   "source": [
    "Function to group rare categories into a single category \"OTHER\"\n",
    "\n",
    "Problems posed by rare category values to logistic regression model:\n",
    "    \n",
    "    - non-ordered, high-cardinality categorical variables are typically one-hot encoded (equivalently, converted to dummy variables), leading to sparse feature vectors and more coefficients to fit (one coefficient per category)\n",
    "\n",
    "    - in parametric methods such as Logistic Regression, coefficients of categories with few samples become unstable and there is increased risk of overfitting to noise\n",
    "\n",
    "Advantages of grouping rare category values into single category:\n",
    "   \n",
    "    - reduce variance (at the expense of increased bias) of coefficients of rare categories, thereby reducing overall model variance - particularly relevant for parametric methos such as Logistic Regression\n",
    "    \n",
    "    - reduce dimensionality of model\n",
    "\n",
    "    - make model capable of handling other values of that category not seen during training\n"
   ]
  },
  {
   "cell_type": "markdown",
   "id": "402163f1",
   "metadata": {},
   "source": [
    "Alternative method to handle high-cardinality categorical features - Target mean encoding:\n",
    "    \n",
    "    - How it works: replace each category with the mean target variable value for that category\n",
    "    \n",
    "    - Advantages: \n",
    "        \n",
    "        - still captures relationship of each category and the target variable\n",
    "\n",
    "        - the categorical feature effectively becomes a numerical feature, avoiding dimensionality growth and feature vector sparsity\n",
    "\n",
    "    - Vulnerabilities:\n",
    "\n",
    "        - still prone to overfitting for rare categories (e.g. category with one sample with positive target class will have mean = 1)\n",
    "\n",
    "        - Introduces target leakage (for each sample, the target variable value is present in the features)"
   ]
  },
  {
   "cell_type": "markdown",
   "id": "a362c35b",
   "metadata": {},
   "source": [
    "A popular algorithm that addresses the problem of categorical features with numerous distinct values is CatBoost, or Categorical Boosting.\n",
    "In short, CatBoost is a type of Gradient Boosted Decision Tree ensemble classifier. It successively fits new trees to the gradient (error) of the previously fitted trees, and its predictions are a weighted average of all those trees.\n",
    "CatBoost handles categorical features without any previous feature tranformation (e.g. one-hot encoding). It does so with a technique called Ordered Target Statistics (OTS).\n",
    "OTS is similar to the technique of target mean encoding mentioned above, but also has some differences:\n",
    "\n",
    "    - each category of a categorical feature is encoded per sample with the mean value of the target variable for that category, but this mean is calculated using only other samples (instead of using the entire training set, including the current sample). This avoids target leakage."
   ]
  },
  {
   "cell_type": "code",
   "execution_count": null,
   "id": "a79a1e3e",
   "metadata": {},
   "outputs": [],
   "source": [
    "import math"
   ]
  },
  {
   "cell_type": "markdown",
   "id": "cee969df",
   "metadata": {},
   "source": [
    "FUNCTION TO GROUP RARE CATEGORIES:"
   ]
  },
  {
   "cell_type": "code",
   "execution_count": null,
   "id": "49c73fc6",
   "metadata": {},
   "outputs": [],
   "source": [
    "def group_rare_categories(category_values,min_frequency=0.05):\n",
    "    \"\"\"\n",
    "    Groups category values with frequency smaller than min_frequency into one category \"OTHER\"\n",
    "    \"\"\"\n",
    "    n_samples = len(category_values)\n",
    "    min_ocurrences = math.ceil(n_samples*min_frequency)\n",
    "    value_counts = [category_values.count(v) for v in category_values]\n",
    "    grouped_category_values = [\"OTHER\" if v < min_ocurrences else category_values[i] for (i,v) in enumerate(value_counts)]\n",
    "    return grouped_category_values\n"
   ]
  },
  {
   "cell_type": "markdown",
   "id": "d49d41a8",
   "metadata": {},
   "source": [
    "Test function"
   ]
  },
  {
   "cell_type": "code",
   "execution_count": null,
   "id": "a687196d",
   "metadata": {},
   "outputs": [],
   "source": [
    "categorical_values = [\"US\",\"US\",\"UK\",\"India\",\"India\",\"Brasil\",\"US\",\"Brasil\",\"Portugal\",\"Portugal\",\"US\",\"US\"]\n",
    "thr = 0.1\n",
    "grouped_categorical_values = group_rare_categories(categorical_values,thr)\n",
    "grouped_categorical_values"
   ]
  },
  {
   "cell_type": "code",
   "execution_count": null,
   "id": "d93f365c",
   "metadata": {},
   "outputs": [],
   "source": [
    "thr = 0.2\n",
    "grouped_categorical_values = group_rare_categories(categorical_values,thr)\n",
    "grouped_categorical_values"
   ]
  }
 ],
 "metadata": {
  "kernelspec": {
   "display_name": "Python 3",
   "language": "python",
   "name": "python3"
  },
  "language_info": {
   "codemirror_mode": {
    "name": "ipython",
    "version": 3
   },
   "file_extension": ".py",
   "mimetype": "text/x-python",
   "name": "python",
   "nbconvert_exporter": "python",
   "pygments_lexer": "ipython3",
   "version": "3.12.0"
  }
 },
 "nbformat": 4,
 "nbformat_minor": 5
}
