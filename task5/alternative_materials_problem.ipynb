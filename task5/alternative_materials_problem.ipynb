{
 "cells": [
  {
   "cell_type": "code",
   "execution_count": 1,
   "id": "80f3490b",
   "metadata": {},
   "outputs": [],
   "source": [
    "import pandas as pd"
   ]
  },
  {
   "cell_type": "markdown",
   "id": "2658235a",
   "metadata": {},
   "source": [
    "Algorithm Description:\n",
    "\n",
    "Calculate semantically meaningful vector embeddings of 'PART_DESCRIPTION' text.\n",
    "Then for a new part description, calculate the vector embedding of the description, calculate cosine similarity with all other embeddings and return the most similar K items (the K with highest cosine similarity value).\n",
    "\n",
    "To make algorithm faster, we could first run K-Means clustering on the database embeddings, and then compare a new embedding first against the mean embeddings, and finally search only within the most similar cluster."
   ]
  },
  {
   "cell_type": "code",
   "execution_count": null,
   "id": "ff27a669",
   "metadata": {},
   "outputs": [],
   "source": [
    "df = pd.read_csv(\"Fuse.csv\", sep=\";\")"
   ]
  },
  {
   "cell_type": "code",
   "execution_count": null,
   "id": "7a89a19e",
   "metadata": {},
   "outputs": [],
   "source": [
    "pd.options.display.max_columns = None\n",
    "df"
   ]
  },
  {
   "cell_type": "markdown",
   "id": "91374f68",
   "metadata": {},
   "source": [
    "Check missing values"
   ]
  },
  {
   "cell_type": "code",
   "execution_count": null,
   "id": "50233f27",
   "metadata": {},
   "outputs": [],
   "source": [
    "df.isna().sum()"
   ]
  },
  {
   "cell_type": "markdown",
   "id": "f101fc6e",
   "metadata": {},
   "source": [
    "Inspect unique values of each feature"
   ]
  },
  {
   "cell_type": "code",
   "execution_count": null,
   "id": "9f021b3b",
   "metadata": {},
   "outputs": [],
   "source": [
    "for col in df.columns:\n",
    "    if col != \"PART_ID\":\n",
    "        print(f\"Col: {col}; Categories: {df[col].unique()} \\n\")"
   ]
  },
  {
   "cell_type": "markdown",
   "id": "62d2b9cf",
   "metadata": {},
   "source": [
    "Comments on data:\n",
    "\n",
    "    1 - multiple types of features: numeric (e.g. body height), unordered and ordered multinomial categorical (e.g. Fuse Material and Blow Characteristic), text (e.g. Part Description, although this is just a combination of several other features into text format)\n",
    "    \n",
    "    2 some categorical features have very high cardinality (e.g. Application)"
   ]
  },
  {
   "cell_type": "markdown",
   "id": "e286828d",
   "metadata": {},
   "source": [
    "Observed problems with data:\n",
    "\n",
    "    1 - many collinear/redundant features (e.g. Body Height + Body length = Fuse Size or Physical Dimension; Mounting Feature = Mounting; 'Additional Features' includes redundant information about other features)\n",
    "    \n",
    "    2 - many missing values\n",
    "\n",
    "Potential solutions:\n",
    "\n",
    "    - Leverage the fact that there are redundant features to try to complete feature values for as many samples as possible (e.g. build missing PART_DESCRIPTION values by constructing strings from values of other columns)\n",
    "\n",
    "    - then drop redundant features"
   ]
  },
  {
   "cell_type": "code",
   "execution_count": null,
   "id": "f12f68a3",
   "metadata": {},
   "outputs": [],
   "source": [
    "import boto3\n",
    "from sklearn.metrics.pairwise import cosine_similarity\n",
    "import json\n",
    "import numpy as np"
   ]
  },
  {
   "cell_type": "markdown",
   "id": "da7b0e15",
   "metadata": {},
   "source": [
    "To simplify demonstration, will use a pretrained text semantic embedding model from amazon"
   ]
  },
  {
   "cell_type": "code",
   "execution_count": null,
   "id": "e63a85ec",
   "metadata": {},
   "outputs": [],
   "source": [
    "region = \"us-east-1\"  # change to your region\n",
    "bedrock_client = boto3.client(service_name=\"bedrock-runtime\", region_name=region)\n",
    "model_id = \"amazon.titan-embed-text-v2:0\""
   ]
  },
  {
   "cell_type": "code",
   "execution_count": null,
   "id": "bdb4fd12",
   "metadata": {},
   "outputs": [],
   "source": [
    "embedding_col = \"PART_DESCRIPTION\""
   ]
  },
  {
   "cell_type": "markdown",
   "id": "afd0f958",
   "metadata": {},
   "source": [
    "To simplify algorithm demonstration, just drop rows with missing values for now"
   ]
  },
  {
   "cell_type": "code",
   "execution_count": null,
   "id": "19f6fc5c",
   "metadata": {},
   "outputs": [],
   "source": [
    "df_filt = df[df[embedding_col].notna()]"
   ]
  },
  {
   "cell_type": "code",
   "execution_count": null,
   "id": "7db69dac",
   "metadata": {},
   "outputs": [],
   "source": [
    "df_filt[\"PART_DESCRIPTION\"].isna().sum()"
   ]
  },
  {
   "cell_type": "markdown",
   "id": "3a3ddbf5",
   "metadata": {},
   "source": [
    "Embed all descriptions in dataset"
   ]
  },
  {
   "cell_type": "code",
   "execution_count": null,
   "id": "4d744ba6",
   "metadata": {},
   "outputs": [],
   "source": [
    "def get_embedding(text):\n",
    "    body = json.dumps({\"inputText\": text})\n",
    "    resp = bedrock_client.invoke_model(modelId=model_id, body=body)\n",
    "    resp_body = json.loads(resp[\"body\"].read())\n",
    "    return np.array(resp_body[\"embedding\"], dtype=float)"
   ]
  },
  {
   "cell_type": "code",
   "execution_count": null,
   "id": "4ad8c037",
   "metadata": {},
   "outputs": [],
   "source": [
    "df_filt[\"embedding\"] = df_filt[col].apply(lambda x: get_embedding(str(x)))"
   ]
  },
  {
   "cell_type": "markdown",
   "id": "a0cc2dfa",
   "metadata": {},
   "source": [
    "Save to pickle"
   ]
  },
  {
   "cell_type": "code",
   "execution_count": null,
   "id": "afd21d3e",
   "metadata": {},
   "outputs": [],
   "source": [
    "df_filt.to_pickle(\"df_with_embeddings.pkl\")"
   ]
  },
  {
   "cell_type": "markdown",
   "id": "593dd071",
   "metadata": {},
   "source": [
    "Load from pickle"
   ]
  },
  {
   "cell_type": "code",
   "execution_count": 2,
   "id": "15120eb6",
   "metadata": {},
   "outputs": [],
   "source": [
    "df_load = pd.read_pickle(\"df_with_embeddings.pkl\")"
   ]
  },
  {
   "cell_type": "markdown",
   "id": "be63274d",
   "metadata": {},
   "source": [
    "Similarity score calculation"
   ]
  },
  {
   "cell_type": "code",
   "execution_count": null,
   "id": "f9c463ff",
   "metadata": {},
   "outputs": [],
   "source": [
    "def calc_similarity_scores(object, embeddings):\n",
    "    return [cosine_similarity([object], [x])[0][0] for x in embeddings]"
   ]
  },
  {
   "cell_type": "markdown",
   "id": "770f4a10",
   "metadata": {},
   "source": [
    "Compare new embedding with all known embeddings, return most similar K items"
   ]
  },
  {
   "cell_type": "code",
   "execution_count": null,
   "id": "284d6c5b",
   "metadata": {},
   "outputs": [],
   "source": [
    "def find_similar_parts(part_description, database, top_k=5):\n",
    "    part_embedding = get_embedding(part_description)\n",
    "    database_embeddings = database[\"embedding\"]\n",
    "    scores = calc_similarity_scores(part_embedding, database_embeddings)\n",
    "    idx = np.argsort(scores)[::-1][0:top_k]\n",
    "    similar_items = database.iloc[idx].copy(deep=True)\n",
    "    return similar_items"
   ]
  },
  {
   "cell_type": "markdown",
   "id": "c1e7792c",
   "metadata": {},
   "source": [
    "Test with new embedding"
   ]
  },
  {
   "cell_type": "code",
   "execution_count": null,
   "id": "afa5786f",
   "metadata": {},
   "outputs": [],
   "source": [
    "test_item = \"Fuse Glass Very Fast 5x20mm\""
   ]
  },
  {
   "cell_type": "code",
   "execution_count": null,
   "id": "8b7ed020",
   "metadata": {},
   "outputs": [],
   "source": [
    "similar_items = find_similar_parts(test_item, df_load)\n",
    "similar_items"
   ]
  },
  {
   "cell_type": "markdown",
   "id": "a4682575",
   "metadata": {},
   "source": [
    "Steps to include other features in the dataset:\n",
    "\n",
    "- Create part description that systematically (instead of arbitrarily, as currently) incorporates information from all features\n",
    "- use semantic vector embedding, as now\n",
    "- given a new query, find most similar items through cosine similarity"
   ]
  }
 ],
 "metadata": {
  "kernelspec": {
   "display_name": "Python 3",
   "language": "python",
   "name": "python3"
  },
  "language_info": {
   "codemirror_mode": {
    "name": "ipython",
    "version": 3
   },
   "file_extension": ".py",
   "mimetype": "text/x-python",
   "name": "python",
   "nbconvert_exporter": "python",
   "pygments_lexer": "ipython3",
   "version": "3.12.0"
  }
 },
 "nbformat": 4,
 "nbformat_minor": 5
}
