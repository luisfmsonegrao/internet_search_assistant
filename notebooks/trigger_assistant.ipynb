{
 "cells": [
  {
   "cell_type": "code",
   "execution_count": 1,
   "id": "4924843d",
   "metadata": {},
   "outputs": [],
   "source": [
    "import os\n",
    "import sys"
   ]
  },
  {
   "cell_type": "code",
   "execution_count": 2,
   "id": "687f35ff",
   "metadata": {},
   "outputs": [],
   "source": [
    "src_dir = os.path.abspath(os.path.join(os.getcwd(),os.pardir,'src'))\n",
    "if src_dir not in sys.path:\n",
    "    sys.path.append(src_dir)"
   ]
  },
  {
   "cell_type": "code",
   "execution_count": 3,
   "id": "1bdf8259",
   "metadata": {},
   "outputs": [],
   "source": [
    "from simple_ui import call_assistant, session_id\n",
    "from orchestrator import orchestrate"
   ]
  },
  {
   "cell_type": "code",
   "execution_count": null,
   "id": "d8cef53c",
   "metadata": {},
   "outputs": [
    {
     "name": "stdout",
     "output_type": "stream",
     "text": [
      "\n",
      "        You are a task classifier. \n",
      "        You are given a list of past queries and a new query.\n",
      "        If the answer to the new query is common knowledge, you classify the task as \"NO_SEARCH\".\n",
      "        If the new query and one or more past queries refer to the same topic, you classify the task as \"CONTEXT_SEARCH\".\n",
      "        If the new query introduces a new topic, and answering it requires a web search, you classify the task as \"WEB_SEARCH\", and you convert the query to an optimized web query.\n",
      "        \n",
      "        You return only valid JSON:\n",
      "        {\n",
      "            \"task\": \"CONTEXT_SEARCH\" or \"WEB_SEARCH\" or \"NO_SEARCH\"\n",
      "            \"content\": web query if task is \"WEB_SEARCH\", otherwise \"NONE\"\n",
      "        }\n",
      "        \n",
      "        New query: what was the net income of caterpillar in 2004?\n",
      "        Past queries:\n",
      "    \n",
      "Task: WEB_SEARCH\n",
      "CONTEXT: {'text': '2024-Annual-Report-based-on-US-GAAP.pdfn-GAAP measure) of 31.9% is calculated as Income from operations of €9,023 million divided by Total net sales of €28,263 million . The actual outcome for Customer Orientation amounts to 110.2% , which is a decrease compared to last year’s performance. The actual outcome for Technology Leadership Index of 8.0 is in line with last year ’s performance. The total STI outcome for current and former Board of Management results in a cash pay-out of €5.3 million and €1.0 million , respectively, representing a pay-out as a percentage of target of 136.1% . Shor t-T', 'score': 0.41750756, 'metadata': {'x-amz-bedrock-kb-source-uri': '2024-Annual-Report-based-on-US-GAAP.pdf-914', 'url': 'https://ourbrand.asml.com/m/79d325b168e0fd7e/original/2024-Annual-Report-based-on-US-GAAP.pdf', 'x-amz-bedrock-kb-chunk-id': '1%3A0%3Abc0iHJoBoRDdXAvFeQsB', 'x-amz-bedrock-kb-data-source-id': 'OSEESE71TJ'}}\n",
      "CONTEXT: {'text': '2024-Annual-Report-based-on-US-GAAP.pdfon and 2023 : €2,155.6 million ) and purchase of intangible assets (2024 : €15.9 million and 2023 : €40.6 million ).Net cash provided by (used in) operating activities The increase in net cash provided by operating activities of €5,722.8 million compared to 2023 is mainly due to the cash received from down payments and the timing of cash payments to our suppliers. This is partially offset by a decrease in net income of €267.4 million . Net cash provided by (used in) investing activities The decrease in net cash used in investing activities of €80.0 millio', 'score': 0.41717377, 'metadata': {'x-amz-bedrock-kb-source-uri': '2024-Annual-Report-based-on-US-GAAP.pdf-290', 'url': 'https://ourbrand.asml.com/m/79d325b168e0fd7e/original/2024-Annual-Report-based-on-US-GAAP.pdf', 'x-amz-bedrock-kb-chunk-id': '1%3A0%3AFM0XHJoBoRDdXAvF3Amv', 'x-amz-bedrock-kb-data-source-id': 'OSEESE71TJ'}}\n",
      "CONTEXT: {'text': '2024-Annual-Report-based-on-US-GAAP.pdf evaluation period. Gross profit recognized at the commencement date of the lease for our sales-type leases amounted to €114.3 million during 2024 (2023 : €460.9 million ; 2022 : €429.1 million ). At December 31, 2024 , payments of the finance receivables in the next five years and thereafter are: (€, in millions) Amount 2025 82.6 2026 317.2 2027 — 2028 — 2029 — Thereafter — Finance receivables, gross 399.8 In 2024 , 2023 and 2022 we did not record any expected credit losses from finance receivables. As of December 31, 2024 , the finance receivables were', 'score': 0.41285592, 'metadata': {'x-amz-bedrock-kb-source-uri': '2024-Annual-Report-based-on-US-GAAP.pdf-2238', 'url': 'https://ourbrand.asml.com/m/79d325b168e0fd7e/original/2024-Annual-Report-based-on-US-GAAP.pdf', 'x-amz-bedrock-kb-chunk-id': '1%3A0%3Acc25IJoBoRDdXAvFBRDv', 'x-amz-bedrock-kb-data-source-id': 'OSEESE71TJ'}}\n"
     ]
    }
   ],
   "source": [
    "query = \"What was the total revenue of ORACLE in 2010?\"\n",
    "resp = orchestrate(query,session_id)"
   ]
  },
  {
   "cell_type": "code",
   "execution_count": 5,
   "id": "c17a989a",
   "metadata": {},
   "outputs": [
    {
     "data": {
      "text/plain": [
       "{'query': 'What was the net income of CATERPILLAR in 2004?',\n",
       " 'task_type': 'WEB_SEARCH',\n",
       " 'answer': \"NO_ANSWER\\n\\nThe provided context does not contain any information about Caterpillar's net income in 2004. The context appears to be an annual report for a different company in 2024, discussing financial metrics like operating income, cash flows, and lease income. There is no mention of Caterpillar or its financials from 2004.\\n\\nMost relevant source URIs:\\n2024-Annual-Report-based-on-US-GAAP.pdf\"}"
      ]
     },
     "execution_count": 5,
     "metadata": {},
     "output_type": "execute_result"
    }
   ],
   "source": [
    "resp"
   ]
  },
  {
   "cell_type": "code",
   "execution_count": null,
   "id": "ff756040",
   "metadata": {},
   "outputs": [],
   "source": []
  }
 ],
 "metadata": {
  "kernelspec": {
   "display_name": "Python 3",
   "language": "python",
   "name": "python3"
  },
  "language_info": {
   "codemirror_mode": {
    "name": "ipython",
    "version": 3
   },
   "file_extension": ".py",
   "mimetype": "text/x-python",
   "name": "python",
   "nbconvert_exporter": "python",
   "pygments_lexer": "ipython3",
   "version": "3.12.0"
  }
 },
 "nbformat": 4,
 "nbformat_minor": 5
}
