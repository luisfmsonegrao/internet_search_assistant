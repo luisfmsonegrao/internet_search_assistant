{
 "cells": [
  {
   "cell_type": "code",
   "execution_count": null,
   "id": "4924843d",
   "metadata": {},
   "outputs": [],
   "source": [
    "import os\n",
    "import sys"
   ]
  },
  {
   "cell_type": "code",
   "execution_count": null,
   "id": "687f35ff",
   "metadata": {},
   "outputs": [],
   "source": [
    "src_dir = os.path.abspath(os.path.join(os.getcwd(), os.pardir, \"src\"))\n",
    "pkg_dir = os.path.abspath(os.path.join(src_dir,os.pardir))\n",
    "core_dir = os.path.join(src_dir,\"assistant_core\")\n",
    "if pkg_dir not in sys.path:\n",
    "    sys.path.append(pkg_dir)\n",
    "\n",
    "if core_dir not in sys.path:\n",
    "    sys.path.append(core_dir)"
   ]
  },
  {
   "cell_type": "code",
   "execution_count": null,
   "id": "1bdf8259",
   "metadata": {},
   "outputs": [],
   "source": [
    "from src.assistant_api.assistant_api import call_assistant"
   ]
  },
  {
   "cell_type": "code",
   "execution_count": null,
   "id": "d8cef53c",
   "metadata": {},
   "outputs": [],
   "source": [
    "query = \"What was the net income of Siemens in 2024\"\n",
    "resp = call_assistant(query)"
   ]
  },
  {
   "cell_type": "code",
   "execution_count": null,
   "id": "c17a989a",
   "metadata": {},
   "outputs": [],
   "source": [
    "resp"
   ]
  }
 ],
 "metadata": {
  "kernelspec": {
   "display_name": "Python 3",
   "language": "python",
   "name": "python3"
  },
  "language_info": {
   "codemirror_mode": {
    "name": "ipython",
    "version": 3
   },
   "file_extension": ".py",
   "mimetype": "text/x-python",
   "name": "python",
   "nbconvert_exporter": "python",
   "pygments_lexer": "ipython3",
   "version": "3.12.0"
  }
 },
 "nbformat": 4,
 "nbformat_minor": 5
}
