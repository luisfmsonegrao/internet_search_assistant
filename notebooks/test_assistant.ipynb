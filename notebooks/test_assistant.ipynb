{
 "cells": [
  {
   "cell_type": "code",
   "execution_count": 1,
   "id": "0eb6d881",
   "metadata": {},
   "outputs": [],
   "source": [
    "import os\n",
    "import sys"
   ]
  },
  {
   "cell_type": "code",
   "execution_count": 2,
   "id": "74a16bc2",
   "metadata": {},
   "outputs": [],
   "source": [
    "src_dir = os.path.abspath(os.path.join(os.getcwd(),os.pardir,'src'))\n",
    "if src_dir not in sys.path:\n",
    "    sys.path.append(src_dir)"
   ]
  },
  {
   "cell_type": "code",
   "execution_count": 3,
   "id": "d01695dd",
   "metadata": {},
   "outputs": [],
   "source": [
    "from orchestrator import orchestrate\n",
    "from simple_ui import call_assistant"
   ]
  },
  {
   "cell_type": "code",
   "execution_count": 4,
   "id": "0497de1a",
   "metadata": {},
   "outputs": [],
   "source": [
    "websearch_query = \"When did Francisco Pinto Balsemao die?\""
   ]
  },
  {
   "cell_type": "code",
   "execution_count": 5,
   "id": "06bb1f99",
   "metadata": {},
   "outputs": [
    {
     "name": "stdout",
     "output_type": "stream",
     "text": [
      "<Response [200]>\n",
      "{'answer': '1) Francisco Pinto Balsemão, a former prime minister of Portugal and media tycoon, died on October 21, 2025 in Lisbon at the age of 88.\\n\\n2) Relevant facts:\\n- He was the prime minister of Portugal during a turbulent post-coup period. [1]\\n- He later withdrew from front-line politics and created a national media empire. [1]\\n- He was the son of Henrique Patrício Pinto Balsemão and Maria Adelaide van Zeller de Castro Pereira. [2]\\n- His great-grandmother was Pedro IV of Portugal. [2]\\n\\n3) Most relevant source URLs:\\n[1] https://apnews.com/article/portugal-pinto-balsemao-dies-06399bfaa59a4f6ab5126a26240168d5\\n[2] https://en.wikipedia.org/wiki/Francisco_Pinto_Balsem%C3%A3o', 'sources': ['https://apnews.com/article/portugal-pinto-balsemao-dies-06399bfaa59a4f6ab5126a26240168d5', 'https://en.wikipedia.org/wiki/Francisco_Pinto_Balsem%C3%A3o']}\n"
     ]
    }
   ],
   "source": [
    "response = call_assistant(websearch_query)"
   ]
  },
  {
   "cell_type": "code",
   "execution_count": null,
   "id": "aba843bf",
   "metadata": {},
   "outputs": [],
   "source": [
    "response"
   ]
  },
  {
   "cell_type": "code",
   "execution_count": null,
   "id": "2970da5b",
   "metadata": {},
   "outputs": [],
   "source": [
    "no_websearch_query = \"How are you?\"\n",
    "response = call_assistant(no_websearch_query)\n",
    "response"
   ]
  }
 ],
 "metadata": {
  "kernelspec": {
   "display_name": "Python 3",
   "language": "python",
   "name": "python3"
  },
  "language_info": {
   "codemirror_mode": {
    "name": "ipython",
    "version": 3
   },
   "file_extension": ".py",
   "mimetype": "text/x-python",
   "name": "python",
   "nbconvert_exporter": "python",
   "pygments_lexer": "ipython3",
   "version": "3.12.0"
  }
 },
 "nbformat": 4,
 "nbformat_minor": 5
}
