{
 "cells": [
  {
   "cell_type": "code",
   "execution_count": 1,
   "id": "0eb6d881",
   "metadata": {},
   "outputs": [],
   "source": [
    "import os\n",
    "import sys"
   ]
  },
  {
   "cell_type": "code",
   "execution_count": 2,
   "id": "74a16bc2",
   "metadata": {},
   "outputs": [],
   "source": [
    "src_dir = os.path.abspath(os.path.join(os.getcwd(),os.pardir,'src'))\n",
    "if src_dir not in sys.path:\n",
    "    sys.path.append(src_dir)"
   ]
  },
  {
   "cell_type": "code",
   "execution_count": null,
   "id": "d01695dd",
   "metadata": {},
   "outputs": [],
   "source": [
    "from assistant_api import call_assistant"
   ]
  },
  {
   "cell_type": "code",
   "execution_count": 5,
   "id": "0497de1a",
   "metadata": {},
   "outputs": [],
   "source": [
    "websearch_query = \"Please find the 2024 pdf annual report of ASML and summarize the main risks expected by the company\""
   ]
  },
  {
   "cell_type": "code",
   "execution_count": null,
   "id": "06bb1f99",
   "metadata": {},
   "outputs": [],
   "source": [
    "response = call_assistant(websearch_query)\n",
    "response"
   ]
  },
  {
   "cell_type": "code",
   "execution_count": null,
   "id": "1f31e169",
   "metadata": {},
   "outputs": [],
   "source": [
    "incontext_query = \"What is the sustainability strategy of ASML as of 2024?\"\n",
    "response = call_assistant(incontext_query)\n",
    "response"
   ]
  },
  {
   "cell_type": "code",
   "execution_count": null,
   "id": "2970da5b",
   "metadata": {},
   "outputs": [],
   "source": [
    "no_websearch_query = \"What are your plans today?\"\n",
    "response = call_assistant(no_websearch_query)\n",
    "response"
   ]
  }
 ],
 "metadata": {
  "kernelspec": {
   "display_name": "Python 3",
   "language": "python",
   "name": "python3"
  },
  "language_info": {
   "codemirror_mode": {
    "name": "ipython",
    "version": 3
   },
   "file_extension": ".py",
   "mimetype": "text/x-python",
   "name": "python",
   "nbconvert_exporter": "python",
   "pygments_lexer": "ipython3",
   "version": "3.12.0"
  }
 },
 "nbformat": 4,
 "nbformat_minor": 5
}
