{
 "cells": [
  {
   "cell_type": "code",
   "execution_count": 1,
   "id": "0eb6d881",
   "metadata": {},
   "outputs": [],
   "source": [
    "import os\n",
    "import sys"
   ]
  },
  {
   "cell_type": "code",
   "execution_count": 2,
   "id": "74a16bc2",
   "metadata": {},
   "outputs": [],
   "source": [
    "src_dir = os.path.abspath(os.path.join(os.getcwd(),os.pardir,'src'))\n",
    "if src_dir not in sys.path:\n",
    "    sys.path.append(src_dir)"
   ]
  },
  {
   "cell_type": "code",
   "execution_count": 3,
   "id": "d01695dd",
   "metadata": {},
   "outputs": [],
   "source": [
    "from orchestrator import orchestrate"
   ]
  },
  {
   "cell_type": "code",
   "execution_count": 4,
   "id": "0497de1a",
   "metadata": {},
   "outputs": [],
   "source": [
    "websearch_query = \"When did Francisco Pinto Balsemao die?\""
   ]
  },
  {
   "cell_type": "code",
   "execution_count": 5,
   "id": "06bb1f99",
   "metadata": {},
   "outputs": [
    {
     "name": "stdout",
     "output_type": "stream",
     "text": [
      "{'task': 'WEB_SEARCH'}\n"
     ]
    }
   ],
   "source": [
    "response = orchestrate(websearch_query)"
   ]
  },
  {
   "cell_type": "code",
   "execution_count": 6,
   "id": "aba843bf",
   "metadata": {},
   "outputs": [
    {
     "data": {
      "text/plain": [
       "{'query': 'When did Francisco Pinto Balsemao die?',\n",
       " 'source': 'WEB_SUMMARY',\n",
       " 'answer': {'answer': '1) Francisco Pinto Balsemão, a former prime minister of Portugal and media tycoon, died on October 21, 2025, at the age of 88 in Lisbon, according to the search results.\\n\\n2) Relevant facts:\\n- He was a former prime minister of Portugal during a turbulent post-coup period. [1]\\n- After withdrawing from front-line politics, he created a national media empire. [1]\\n- He was the son of Henrique Patrício Pinto Balsemão and Maria Adelaide van Zeller de Castro Pereira, a great-granddaughter of Pedro IV of Portugal. [2]\\n- He died in Lisbon on October 21, 2025, at the age of 88. [2]\\n\\n3) Most relevant source URLs:\\n[1] https://apnews.com/article/portugal-pinto-balsemao-dies-06399bfaa59a4f6ab5126a26240168d5\\n[2] https://en.wikipedia.org/wiki/Francisco_Pinto_Balsem%C3%A3o',\n",
       "  'sources': ['https://apnews.com/article/portugal-pinto-balsemao-dies-06399bfaa59a4f6ab5126a26240168d5',\n",
       "   'https://en.wikipedia.org/wiki/Francisco_Pinto_Balsem%C3%A3o']}}"
      ]
     },
     "execution_count": 6,
     "metadata": {},
     "output_type": "execute_result"
    }
   ],
   "source": [
    "response"
   ]
  },
  {
   "cell_type": "code",
   "execution_count": null,
   "id": "2970da5b",
   "metadata": {},
   "outputs": [
    {
     "name": "stdout",
     "output_type": "stream",
     "text": [
      "{'task': 'WEB_SEARCH'}\n"
     ]
    },
    {
     "data": {
      "text/plain": [
       "{'query': 'What was the gross income of amazon in 2015?',\n",
       " 'source': 'WEB_SUMMARY',\n",
       " 'answer': {'answer': \"1) According to the search results, Amazon's gross income (referred to as gross profit) in 2015 was $35.4 billion. Their total net sales revenue for the year was $107.0 billion.\\n\\n2) Relevant facts:\\n- Amazon's gross profit in 2015 was $35.4 billion [1]\\n- Their gross profit margin in 2015 was 33.0% [1]  \\n- Total net sales revenue for Amazon in 2015 was $107.0 billion [1]\\n- The gross profit figures for more recent years like 2022-2024 are also provided [2]\\n\\n3) Most relevant source URLs:\\n[1] https://revenueandprofit.net/amazon-revenues-and-profits-analysis/\\n[2] https://www.macrotrends.net/stocks/charts/AMZN/amazon/gross-profit\",\n",
       "  'sources': ['https://revenueandprofit.net/amazon-revenues-and-profits-analysis/',\n",
       "   'https://www.macrotrends.net/stocks/charts/AMZN/amazon/gross-profit']}}"
      ]
     },
     "execution_count": 9,
     "metadata": {},
     "output_type": "execute_result"
    }
   ],
   "source": [
    "no_websearch_query = \"What is the capital of France?\"\n",
    "response = orchestrate(no_websearch_query)\n",
    "response"
   ]
  },
  {
   "cell_type": "code",
   "execution_count": null,
   "id": "b65854ff",
   "metadata": {},
   "outputs": [],
   "source": []
  }
 ],
 "metadata": {
  "kernelspec": {
   "display_name": "Python 3",
   "language": "python",
   "name": "python3"
  },
  "language_info": {
   "codemirror_mode": {
    "name": "ipython",
    "version": 3
   },
   "file_extension": ".py",
   "mimetype": "text/x-python",
   "name": "python",
   "nbconvert_exporter": "python",
   "pygments_lexer": "ipython3",
   "version": "3.12.0"
  }
 },
 "nbformat": 4,
 "nbformat_minor": 5
}
