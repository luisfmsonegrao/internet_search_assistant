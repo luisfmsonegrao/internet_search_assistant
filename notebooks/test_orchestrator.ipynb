{
 "cells": [
  {
   "cell_type": "code",
   "execution_count": null,
   "id": "0eb6d881",
   "metadata": {},
   "outputs": [],
   "source": [
    "import os\n",
    "import sys"
   ]
  },
  {
   "cell_type": "code",
   "execution_count": null,
   "id": "74a16bc2",
   "metadata": {},
   "outputs": [],
   "source": [
    "src_dir = os.path.abspath(os.path.join(os.getcwd(),os.pardir,'src'))\n",
    "if src_dir not in sys.path:\n",
    "    sys.path.append(src_dir)"
   ]
  },
  {
   "cell_type": "code",
   "execution_count": null,
   "id": "d01695dd",
   "metadata": {},
   "outputs": [],
   "source": [
    "from orchestrator import orchestrate"
   ]
  },
  {
   "cell_type": "code",
   "execution_count": null,
   "id": "0497de1a",
   "metadata": {},
   "outputs": [],
   "source": [
    "websearch_query = \"When did Francisco Pinto Balsemao die?\""
   ]
  },
  {
   "cell_type": "code",
   "execution_count": null,
   "id": "06bb1f99",
   "metadata": {},
   "outputs": [],
   "source": [
    "response = orchestrate(websearch_query)"
   ]
  },
  {
   "cell_type": "code",
   "execution_count": null,
   "id": "aba843bf",
   "metadata": {},
   "outputs": [],
   "source": [
    "response"
   ]
  },
  {
   "cell_type": "code",
   "execution_count": null,
   "id": "2970da5b",
   "metadata": {},
   "outputs": [],
   "source": [
    "no_websearch_query = \"How are you?\"\n",
    "response = orchestrate(no_websearch_query)\n",
    "response"
   ]
  },
  {
   "cell_type": "code",
   "execution_count": null,
   "id": "b65854ff",
   "metadata": {},
   "outputs": [],
   "source": []
  }
 ],
 "metadata": {
  "kernelspec": {
   "display_name": "Python 3",
   "language": "python",
   "name": "python3"
  },
  "language_info": {
   "codemirror_mode": {
    "name": "ipython",
    "version": 3
   },
   "file_extension": ".py",
   "mimetype": "text/x-python",
   "name": "python",
   "nbconvert_exporter": "python",
   "pygments_lexer": "ipython3",
   "version": "3.12.0"
  }
 },
 "nbformat": 4,
 "nbformat_minor": 5
}
