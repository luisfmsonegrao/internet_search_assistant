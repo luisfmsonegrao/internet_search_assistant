{
 "cells": [
  {
   "cell_type": "code",
   "execution_count": 3,
   "id": "0eb6d881",
   "metadata": {},
   "outputs": [],
   "source": [
    "import os\n",
    "import sys"
   ]
  },
  {
   "cell_type": "code",
   "execution_count": 4,
   "id": "74a16bc2",
   "metadata": {},
   "outputs": [],
   "source": [
    "src_dir = os.path.abspath(os.path.join(os.getcwd(),os.pardir,'src'))\n",
    "if src_dir not in sys.path:\n",
    "    sys.path.append(src_dir)"
   ]
  },
  {
   "cell_type": "code",
   "execution_count": 5,
   "id": "d01695dd",
   "metadata": {},
   "outputs": [],
   "source": [
    "from orchestrator import orchestrate"
   ]
  },
  {
   "cell_type": "code",
   "execution_count": 6,
   "id": "0497de1a",
   "metadata": {},
   "outputs": [],
   "source": [
    "query = \"When did Francisco Pinto Balsemao die?\""
   ]
  },
  {
   "cell_type": "code",
   "execution_count": 7,
   "id": "06bb1f99",
   "metadata": {},
   "outputs": [],
   "source": [
    "response = orchestrate(query)"
   ]
  },
  {
   "cell_type": "code",
   "execution_count": 8,
   "id": "aba843bf",
   "metadata": {},
   "outputs": [
    {
     "data": {
      "text/plain": [
       "{'query': 'When did Francisco Pinto Balsemao die?',\n",
       " 'source': 'WEB_SUMMARY',\n",
       " 'answer': {'answer': '1) According to the search results, Francisco Pinto Balsemão died on October 21, 2025 at the age of 88 in Lisbon, Portugal. He was a former Prime Minister of Portugal, founder of SIC and Expresso, and a prominent member of the PSD political party.\\n\\n2) Relevant facts:\\n- Francisco Pinto Balsemão was the son of Henrique Patrício Pinto Balsemão and Maria Adelaide van Zeller de Castro Pereira, a great-granddaughter of Pedro IV of Portugal. [1]\\n- He died on October 21, 2025 in Lisbon at the age of 88. [1], [2]\\n- He was the founder of the media outlets SIC and Expresso. [2]\\n- He was a former Prime Minister of Portugal. [2]\\n- He was a prominent member of the PSD (Social Democratic Party) political party in Portugal. [2]\\n\\n3) Most relevant source URLs:\\n[1] https://en.wikipedia.org/wiki/Francisco_Pinto_Balsem%C3%A3o\\n[2] https://alentejo.sulinformacao.pt/en/2025/10/morreu-francisco-pinto-balsemao-aos-88-anos/',\n",
       "  'sources': ['https://en.wikipedia.org/wiki/Francisco_Pinto_Balsem%C3%A3o',\n",
       "   'https://alentejo.sulinformacao.pt/en/2025/10/morreu-francisco-pinto-balsemao-aos-88-anos/']}}"
      ]
     },
     "execution_count": 8,
     "metadata": {},
     "output_type": "execute_result"
    }
   ],
   "source": [
    "response"
   ]
  },
  {
   "cell_type": "code",
   "execution_count": null,
   "id": "2970da5b",
   "metadata": {},
   "outputs": [],
   "source": []
  }
 ],
 "metadata": {
  "kernelspec": {
   "display_name": "Python 3",
   "language": "python",
   "name": "python3"
  },
  "language_info": {
   "codemirror_mode": {
    "name": "ipython",
    "version": 3
   },
   "file_extension": ".py",
   "mimetype": "text/x-python",
   "name": "python",
   "nbconvert_exporter": "python",
   "pygments_lexer": "ipython3",
   "version": "3.12.0"
  }
 },
 "nbformat": 4,
 "nbformat_minor": 5
}
